{
 "cells": [
  {
   "cell_type": "markdown",
   "id": "72267e47",
   "metadata": {},
   "source": [
    "# Matrix Multiplication\n",
    "## Column Vector Factor Interpretation\n",
    "\n",
    "Consider a $2 \\times 2$ matrix M\n",
    "\n",
    "### $M = \\left[  \\begin{array}{cc} a & b \\\\ c & d \\end{array} \\right]$"
   ]
  },
  {
   "cell_type": "markdown",
   "id": "0c158ae2",
   "metadata": {},
   "source": [
    "Let's now consider the 2D Euclidean vector $(x, y)$.  We can actually write this as a 2x1 \"column matrix\"\n",
    "\n",
    "### $ x = \\left[ \\begin{array}{c} x \\\\ y  \\end{array} \\right] $"
   ]
  },
  {
   "cell_type": "markdown",
   "id": "07fe538d",
   "metadata": {},
   "source": [
    "Now the dimensions line up so that we can do multiplication\n",
    "\n",
    "### $\\left[  \\begin{array}{cc} a & b \\\\ c & d \\end{array} \\right] \\left[ \\begin{array}{c} x \\\\ y  \\end{array} \\right]  = \\left[ \\begin{array}{c} ax + by \\\\ cx + dy  \\end{array} \\right] $\n",
    "\n",
    "In this way, we see that a 2x2 matrix can really be thought of as a function from 2D vectors to 2D vectors.  In fact, it's what's known as a \"linear function.\"  \n",
    "\n",
    "If we factor the above equation, we get a very interesting geometric interpretation of what this function is doing.  In particular, we're just taking a scalar multiple <b>x</b> times the first column $(a, c)$, though of as a vector, plus a scalar mutiple <b>y</b> times the second column $(b, d)$.  In other words, we walk along the first column vector of our matrix by a length of <b>x</b>, and then from where we end up, we walk s length of <b>y</b> along the second column.  The picture below shows this."
   ]
  },
  {
   "cell_type": "markdown",
   "id": "eb90cafa",
   "metadata": {},
   "source": [
    "<img src = \"ColumnVectorWalking.png\">"
   ]
  },
  {
   "cell_type": "markdown",
   "id": "4c6f1de1",
   "metadata": {},
   "source": [
    "Below is a concrete example of the matrix multiplication\n",
    "\n",
    "### $\\left[  \\begin{array}{cc} 1 & -1 \\\\ 1 & 0 \\end{array} \\right] \\left[ \\begin{array}{c} x \\\\ y  \\end{array} \\right] = \\left[ \\begin{array}{c} x-y \\\\ y  \\end{array} \\right] $\n",
    "\n",
    "In particular, if we multiplied the vector $(1, 1)$ on the left by this matrix, we would end up with the vector $(0, 1)$"
   ]
  },
  {
   "cell_type": "markdown",
   "id": "71a70ca6",
   "metadata": {},
   "source": [
    "<img src = \"ColumnVectorWalkingEx.png\">"
   ]
  },
  {
   "cell_type": "markdown",
   "id": "1da791a8",
   "metadata": {},
   "source": [
    "This applies equally to any number of vectors in any dimensions.  There are always as many rows as there are dimensions and as many columns as there are vectors we can use in our sum.  For example, let's suppose we had 3 vectors in 4 dimensions.  We could stack them up into a $4 \\times 3$ matrix, and any vector we want to make that's a \"linear combination\" of these three vectors would be a multiplication on the right by a $3 \\times 1$ matrix (we have a scalar for each column vector that says how much of it we want).  Below shows such an example of 3 vectors in 4D with code to do it manually, as well as code to use matrix multiplication.  You'll see they give the same answer"
   ]
  },
  {
   "cell_type": "code",
   "execution_count": 1,
   "id": "0d85475f",
   "metadata": {},
   "outputs": [
    {
     "name": "stdout",
     "output_type": "stream",
     "text": [
      "[3 2 0 1]\n",
      "[3. 2. 0. 1.]\n"
     ]
    }
   ],
   "source": [
    "import numpy as np\n",
    "v1 = np.array([1, 1, 0, 1])\n",
    "v2 = np.array([1, 0, 0, 0])\n",
    "v3 = np.array([0, -1, 0, 0])\n",
    "x = 1\n",
    "y = 2\n",
    "z = -1\n",
    "print(x*v1 + y*v2 + z*v3)\n",
    "\n",
    "A = np.zeros((4, 3))\n",
    "A[:, 0] = v1\n",
    "A[:, 1] = v2\n",
    "A[:, 2] = v3\n",
    "print(A.dot([x, y, z]))"
   ]
  },
  {
   "cell_type": "code",
   "execution_count": null,
   "id": "7d2e66a1",
   "metadata": {},
   "outputs": [],
   "source": []
  }
 ],
 "metadata": {
  "kernelspec": {
   "display_name": "Python 3",
   "language": "python",
   "name": "python3"
  },
  "language_info": {
   "codemirror_mode": {
    "name": "ipython",
    "version": 3
   },
   "file_extension": ".py",
   "mimetype": "text/x-python",
   "name": "python",
   "nbconvert_exporter": "python",
   "pygments_lexer": "ipython3",
   "version": "3.8.8"
  }
 },
 "nbformat": 4,
 "nbformat_minor": 5
}
