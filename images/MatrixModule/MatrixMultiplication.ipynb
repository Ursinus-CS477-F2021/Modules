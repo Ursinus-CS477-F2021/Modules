{
 "cells": [
  {
   "cell_type": "markdown",
   "id": "norwegian-zealand",
   "metadata": {},
   "source": [
    "# Matrix Multiplication in Numpy"
   ]
  },
  {
   "cell_type": "code",
   "execution_count": 1,
   "id": "champion-documentary",
   "metadata": {},
   "outputs": [],
   "source": [
    "import numpy as np"
   ]
  },
  {
   "cell_type": "code",
   "execution_count": 2,
   "id": "helpful-collins",
   "metadata": {},
   "outputs": [
    {
     "name": "stdout",
     "output_type": "stream",
     "text": [
      "[[0.91093404 0.9512029  0.37012699 0.49695407]\n",
      " [0.12733269 0.98029049 0.3460466  0.83258018]\n",
      " [0.44438983 0.89992234 0.74756983 0.10297354]]\n"
     ]
    }
   ],
   "source": [
    "A = np.random.rand(3, 4) # 3 x 4 matrix\n",
    "print(A)"
   ]
  },
  {
   "cell_type": "code",
   "execution_count": 3,
   "id": "extended-librarian",
   "metadata": {},
   "outputs": [
    {
     "name": "stdout",
     "output_type": "stream",
     "text": [
      "[[0.56647329 0.45461109]\n",
      " [0.25323378 0.15791856]\n",
      " [0.54631074 0.61116914]\n",
      " [0.55152014 0.21768352]]\n"
     ]
    }
   ],
   "source": [
    "B = np.random.rand(4, 2)\n",
    "print(B)"
   ]
  },
  {
   "cell_type": "markdown",
   "id": "vanilla-pastor",
   "metadata": {},
   "source": [
    "Define matrix multiplication of an $M \\times K$ matrix $A$ by a $K \\times N$ matrix $B$ as the product $AB$, which is an $M \\times N$ matrix, where\n",
    "\n",
    "$AB[i, j] = A[i, :] \\cdot B[:, j]$\n",
    "\n",
    "The element $AB_{ij}$ is the dot product of the $i^{th}$ row of $A$ and the $j^{th}$ column of $B$\n",
    "\n",
    "Below are a couple of examples\n",
    "\n",
    "### Example1\n",
    "\n",
    "A $5 \\times 3$ matrix multiplied by a $3 \\times 4$ matrix yields a $5 \\times 4$ matrix.  For example, row 3, column 4 can be obtained as follows:\n",
    "\n",
    "<img src = \"MatMul1_Example.png\">\n",
    "\n",
    "Here's an animation showing how to obtain the rest of the rows and columns (<a href = \"https://www.youtube.com/watch?v=7bs_BGrO3BQ\">Click here</a> to watch a youtube video where you can pause the frames if needed)\n",
    "\n",
    "<img src = \"MatMul1.gif\">\n",
    "\n",
    "\n",
    "### Example2\n",
    "\n",
    "A $2 \\times 4$ matrix multiplied by a $4 \\times 3$ matrix yields a $2 \\times 3$ matrix (<a href = \"https://www.youtube.com/watch?v=-MnxPjXprpM\">Click here</a> to watch a version of this video on youtube where you can pause the frames if needed)\n",
    "\n",
    "<img src = \"MatMul2.gif\">\n"
   ]
  },
  {
   "cell_type": "code",
   "execution_count": 4,
   "id": "subject-trading",
   "metadata": {},
   "outputs": [],
   "source": [
    "def matrixmul(A, B):\n",
    "    M = A.shape[0]\n",
    "    K = A.shape[1]\n",
    "    assert(B.shape[0] == K)\n",
    "    N = B.shape[1]\n",
    "    AB = np.zeros((M, N))\n",
    "    for i in range(M):\n",
    "        for j in range(N):\n",
    "            AB[i, j] = np.sum(A[i, :]*B[:, j])\n",
    "    return AB"
   ]
  },
  {
   "cell_type": "code",
   "execution_count": 5,
   "id": "municipal-official",
   "metadata": {},
   "outputs": [
    {
     "name": "stdout",
     "output_type": "stream",
     "text": [
      "[[1.23318104 0.89872221]\n",
      " [0.96860695 0.6054249 ]\n",
      " [0.94482312 0.82344624]]\n"
     ]
    }
   ],
   "source": [
    "AB = matrixmul(A, B)\n",
    "print(AB)"
   ]
  },
  {
   "cell_type": "code",
   "execution_count": 6,
   "id": "filled-leadership",
   "metadata": {},
   "outputs": [
    {
     "name": "stdout",
     "output_type": "stream",
     "text": [
      "[[1.23318104 0.89872221]\n",
      " [0.96860695 0.6054249 ]\n",
      " [0.94482312 0.82344624]]\n"
     ]
    }
   ],
   "source": [
    "AB2 = np.dot(A, B)\n",
    "print(AB2)"
   ]
  }
 ],
 "metadata": {
  "kernelspec": {
   "display_name": "Python 3",
   "language": "python",
   "name": "python3"
  },
  "language_info": {
   "codemirror_mode": {
    "name": "ipython",
    "version": 3
   },
   "file_extension": ".py",
   "mimetype": "text/x-python",
   "name": "python",
   "nbconvert_exporter": "python",
   "pygments_lexer": "ipython3",
   "version": "3.8.8"
  }
 },
 "nbformat": 4,
 "nbformat_minor": 5
}
